{
  "nbformat": 4,
  "nbformat_minor": 0,
  "metadata": {
    "colab": {
      "provenance": [],
      "authorship_tag": "ABX9TyPu5yCcCP8E9XVjCwdd29Q7",
      "include_colab_link": true
    },
    "kernelspec": {
      "name": "python3",
      "display_name": "Python 3"
    },
    "language_info": {
      "name": "python"
    }
  },
  "cells": [
    {
      "cell_type": "markdown",
      "metadata": {
        "id": "view-in-github",
        "colab_type": "text"
      },
      "source": [
        "<a href=\"https://colab.research.google.com/github/geodude1992/Black-Scholes-Option-Pricing/blob/main/Black_Scholes_Option_Pricing.ipynb\" target=\"_parent\"><img src=\"https://colab.research.google.com/assets/colab-badge.svg\" alt=\"Open In Colab\"/></a>"
      ]
    },
    {
      "cell_type": "markdown",
      "source": [
        "# **Option Pricing Using the Black-Scholes Merton Model**\n",
        "\n",
        "In finance, the Black Scholes Merton model is one of the most widely used methods for pricing options. It calculates the theoretical value of an option based on five key variables:\n",
        "\n",
        "\n",
        "*   Underlying Price(S)\n",
        "*   Strike Price(K)\n",
        "*   Time of Expiration (T)\n",
        "*   Risk Free Rate (r)\n",
        "*   Volatility (σ)\n"
      ],
      "metadata": {
        "id": "RngAOgfF_G6J"
      }
    },
    {
      "cell_type": "markdown",
      "source": [
        "Import Libraries"
      ],
      "metadata": {
        "id": "tORvkITYB2wA"
      }
    },
    {
      "cell_type": "code",
      "source": [
        "import math\n",
        "from scipy.stats import norm"
      ],
      "metadata": {
        "id": "kj-ztZ-pADYV"
      },
      "execution_count": null,
      "outputs": []
    },
    {
      "cell_type": "code",
      "source": [
        "# Define the variables\n",
        "S = 100       # Underlying price of stock\n",
        "K = 100       # Strike price of option\n",
        "T = 0.5       # Time to expiration in years: 1=1year , 0.5=half year\n",
        "r = 0.05      # Risk-free interest rate\n",
        "sigma = 0.2   # Volatility"
      ],
      "metadata": {
        "id": "UgiJ9-U4B9Jf"
      },
      "execution_count": null,
      "outputs": []
    },
    {
      "cell_type": "markdown",
      "source": [
        "# **Calculate D1**\n",
        "\n",
        "The formula for d1 in the Black Scholes Model:\n",
        "\n",
        "\n",
        "# $d1 = \\frac{ln(\\frac{S}{K}) + (r + \\frac{1}{2}σ^2)T}{σ\\sqrt{T}}$\n"
      ],
      "metadata": {
        "id": "Agv35h54CldA"
      }
    },
    {
      "cell_type": "code",
      "source": [],
      "metadata": {
        "id": "r8op3O7QCmLL"
      },
      "execution_count": null,
      "outputs": []
    }
  ]
}