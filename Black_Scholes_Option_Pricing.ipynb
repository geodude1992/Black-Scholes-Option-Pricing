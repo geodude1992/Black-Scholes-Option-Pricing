{
  "nbformat": 4,
  "nbformat_minor": 0,
  "metadata": {
    "colab": {
      "provenance": [],
      "authorship_tag": "ABX9TyOHCyejojjOLjJiKV6XsMND",
      "include_colab_link": true
    },
    "kernelspec": {
      "name": "python3",
      "display_name": "Python 3"
    },
    "language_info": {
      "name": "python"
    }
  },
  "cells": [
    {
      "cell_type": "markdown",
      "metadata": {
        "id": "view-in-github",
        "colab_type": "text"
      },
      "source": [
        "<a href=\"https://colab.research.google.com/github/geodude1992/Black-Scholes-Option-Pricing/blob/main/Black_Scholes_Option_Pricing.ipynb\" target=\"_parent\"><img src=\"https://colab.research.google.com/assets/colab-badge.svg\" alt=\"Open In Colab\"/></a>"
      ]
    },
    {
      "cell_type": "markdown",
      "source": [
        "# **Option Pricing Using the Black-Scholes Merton Model**\n",
        "\n",
        "In finance, the Black Scholes Merton model is one of the most widely used methods for pricing options. It calculates the theoretical value of an option based on five key variables:\n",
        "\n",
        "\n",
        "*   Underlying Price(S)\n",
        "*   Strike Price(K)\n",
        "*   Time of Expiration (T)\n",
        "*   Risk Free Rate (r)\n",
        "*   Volatility (σ)\n"
      ],
      "metadata": {
        "id": "RngAOgfF_G6J"
      }
    },
    {
      "cell_type": "code",
      "source": [
        "import math\n",
        "from scipy.stats import norm"
      ],
      "metadata": {
        "id": "kj-ztZ-pADYV"
      },
      "execution_count": null,
      "outputs": []
    }
  ]
}