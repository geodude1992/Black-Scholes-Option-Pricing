{
  "nbformat": 4,
  "nbformat_minor": 0,
  "metadata": {
    "colab": {
      "provenance": [],
      "authorship_tag": "ABX9TyPwMy95jksFmt31Qh3Y6+fH",
      "include_colab_link": true
    },
    "kernelspec": {
      "name": "python3",
      "display_name": "Python 3"
    },
    "language_info": {
      "name": "python"
    }
  },
  "cells": [
    {
      "cell_type": "markdown",
      "metadata": {
        "id": "view-in-github",
        "colab_type": "text"
      },
      "source": [
        "<a href=\"https://colab.research.google.com/github/geodude1992/Black-Scholes-Option-Pricing/blob/main/Black_Scholes_Option_Pricing.ipynb\" target=\"_parent\"><img src=\"https://colab.research.google.com/assets/colab-badge.svg\" alt=\"Open In Colab\"/></a>"
      ]
    },
    {
      "cell_type": "markdown",
      "source": [
        "# **Option Pricing Using the Black-Scholes Merton Model**\n",
        "\n",
        "In finance, the Black Scholes Merton model is one of the most widely used methods for pricing options. It calculates the theoretical value of an option based on five key variables:\n",
        "\n",
        "\n",
        "*   Underlying Price(S)\n",
        "*   Strike Price(K)\n",
        "*   Time of Expiration (T)\n",
        "*   Risk Free Rate (r)\n",
        "*   Volatility (σ)\n"
      ],
      "metadata": {
        "id": "RngAOgfF_G6J"
      }
    },
    {
      "cell_type": "markdown",
      "source": [
        "Import Libraries"
      ],
      "metadata": {
        "id": "tORvkITYB2wA"
      }
    },
    {
      "cell_type": "code",
      "source": [
        "import math\n",
        "from scipy.stats import norm"
      ],
      "metadata": {
        "id": "kj-ztZ-pADYV"
      },
      "execution_count": null,
      "outputs": []
    },
    {
      "cell_type": "code",
      "source": [
        "# Define the variables\n",
        "S = 100       # Underlying price of stock\n",
        "K = 40       # Strike price of option\n",
        "T = 0.5       # Time to expiration in years: 1=1year , 0.5=half year\n",
        "r = 0.1      # Risk-free interest rate\n",
        "sigma = 0.2   # Volatility (percent)"
      ],
      "metadata": {
        "id": "UgiJ9-U4B9Jf"
      },
      "execution_count": 15,
      "outputs": []
    },
    {
      "cell_type": "markdown",
      "source": [
        "# **Calculate d1**\n",
        "\n",
        "The formula for d1 in the Black Scholes Model:\n",
        "\n",
        "\n",
        "# $d1 = \\frac{ln(\\frac{S}{K}) + (r + \\frac{1}{2}σ^2)T}{σ\\sqrt{T}}$\n"
      ],
      "metadata": {
        "id": "Agv35h54CldA"
      }
    },
    {
      "cell_type": "code",
      "source": [
        "d1 = (math.log(S / K) + (r + 0.5 * sigma ** 2) * T) / (sigma * math.sqrt(T))"
      ],
      "metadata": {
        "id": "r8op3O7QCmLL"
      },
      "execution_count": 16,
      "outputs": []
    },
    {
      "cell_type": "markdown",
      "source": [
        "# **Calulate d2**\n",
        "\n",
        "The formula for d2 is simply:\n",
        "\n",
        "$d2 = d1 - σ\\sqrt{T}$"
      ],
      "metadata": {
        "id": "9GbtSx29I3xy"
      }
    },
    {
      "cell_type": "code",
      "source": [
        "d2 = d1 - (sigma * math.sqrt(T))"
      ],
      "metadata": {
        "id": "9mPtnbWDJWY9"
      },
      "execution_count": 17,
      "outputs": []
    },
    {
      "cell_type": "markdown",
      "source": [
        "# **Calculate Call Option Price**\n",
        "\n",
        "The call option price (C) in the Black Scholes Merton Model is calulated using the formula:\n",
        "\n",
        "$C = S * N(d1) - K * e^{-rT} * N(d2)$\n",
        "\n",
        "N is a cumulative distribution function\n",
        "\n",
        "For Calls, you want S to increase."
      ],
      "metadata": {
        "id": "u9imsZSrKDgx"
      }
    },
    {
      "cell_type": "code",
      "source": [
        "C = S * norm.cdf(d1) - K * math.exp(-r * T) * norm.cdf(d2)"
      ],
      "metadata": {
        "id": "1LK56YgEK24N"
      },
      "execution_count": 18,
      "outputs": []
    },
    {
      "cell_type": "markdown",
      "source": [
        "# **Calculate Put Option Price**\n",
        "\n",
        "Finally, the put option(P) is calculated as:\n",
        "\n",
        "$P = K * e^{-rT} * N(-d2) - S * N(-d1)$\n",
        "\n",
        "For Puts, you want S to decrease."
      ],
      "metadata": {
        "id": "soNMVWYHL2dz"
      }
    },
    {
      "cell_type": "code",
      "source": [
        "P = K * math.exp(-r * T) * norm.cdf(-d2) - S * norm.cdf(-d1)"
      ],
      "metadata": {
        "id": "zw1XIT3SM0uP"
      },
      "execution_count": 19,
      "outputs": []
    },
    {
      "cell_type": "markdown",
      "source": [
        "# **Print result**"
      ],
      "metadata": {
        "id": "PGKxvofDM29b"
      }
    },
    {
      "cell_type": "code",
      "source": [
        "print(\"The value of d1: \", round(d1, 4))\n",
        "print(\"The value of d2: \", round(d2, 4))\n",
        "print('\\n')\n",
        "print(\"Call Option Price: $\", round(C, 2))\n",
        "print(\"Put Option Price: $\", round(P, 2))"
      ],
      "metadata": {
        "colab": {
          "base_uri": "https://localhost:8080/"
        },
        "id": "cpkQQzgeNMHn",
        "outputId": "c8cf8d58-7f73-4b11-b64f-10a77b7463ad"
      },
      "execution_count": 20,
      "outputs": [
        {
          "output_type": "stream",
          "name": "stdout",
          "text": [
            "The value of d1:  6.9034\n",
            "The value of d2:  6.762\n",
            "\n",
            "\n",
            "Call Option Price: $ 61.95\n",
            "Put Option Price: $ 0.0\n"
          ]
        }
      ]
    }
  ]
}